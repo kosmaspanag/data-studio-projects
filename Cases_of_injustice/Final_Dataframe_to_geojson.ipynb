{
 "cells": [
  {
   "cell_type": "markdown",
   "metadata": {},
   "source": [
    "Great! Now we have built a out all of our special properties for the template.\n",
    "\n",
    "It's time to turn this back into **json format** we orient by records because that gives us an array of dictionaries.\n"
   ]
  },
  {
   "cell_type": "code",
   "execution_count": 22,
   "metadata": {},
   "outputs": [
    {
     "data": {
      "text/html": [
       "<div>\n",
       "<style>\n",
       "    .dataframe thead tr:only-child th {\n",
       "        text-align: right;\n",
       "    }\n",
       "\n",
       "    .dataframe thead th {\n",
       "        text-align: left;\n",
       "    }\n",
       "\n",
       "    .dataframe tbody tr th {\n",
       "        vertical-align: top;\n",
       "    }\n",
       "</style>\n",
       "<table border=\"1\" class=\"dataframe\">\n",
       "  <thead>\n",
       "    <tr style=\"text-align: right;\">\n",
       "      <th></th>\n",
       "      <th>geometry.coordinates</th>\n",
       "      <th>geometry.type</th>\n",
       "      <th>properties.name</th>\n",
       "      <th>properties.headline</th>\n",
       "      <th>properties.article</th>\n",
       "      <th>properties.color</th>\n",
       "      <th>properties.group_id</th>\n",
       "      <th>properties.group_name</th>\n",
       "    </tr>\n",
       "  </thead>\n",
       "  <tbody>\n",
       "    <tr>\n",
       "      <th>0</th>\n",
       "      <td>[[[-85.30506134, 33.482673645], [-85.263984679...</td>\n",
       "      <td>Polygon</td>\n",
       "      <td>Alabama Middle</td>\n",
       "      <td>This is in district 11</td>\n",
       "      <td>Alabama Middle is great. But you really want t...</td>\n",
       "      <td>#AA0055</td>\n",
       "      <td>11</td>\n",
       "      <td>District 11</td>\n",
       "    </tr>\n",
       "    <tr>\n",
       "      <th>1</th>\n",
       "      <td>[[[-87.9870452879999, 35.0075187680001], [-87....</td>\n",
       "      <td>Polygon</td>\n",
       "      <td>Alabama Northern</td>\n",
       "      <td>This is in district 11</td>\n",
       "      <td>Alabama Northern is great. But you really want...</td>\n",
       "      <td>#EE4466</td>\n",
       "      <td>11</td>\n",
       "      <td>District 11</td>\n",
       "    </tr>\n",
       "    <tr>\n",
       "      <th>2</th>\n",
       "      <td>[[[[-88.1121139529999, 30.2584381100002], [-88...</td>\n",
       "      <td>MultiPolygon</td>\n",
       "      <td>Alabama Southern</td>\n",
       "      <td>This is in district 11</td>\n",
       "      <td>Alabama Southern is great. But you really want...</td>\n",
       "      <td>#FF8888</td>\n",
       "      <td>11</td>\n",
       "      <td>District 11</td>\n",
       "    </tr>\n",
       "    <tr>\n",
       "      <th>3</th>\n",
       "      <td>[[[[-179.098083496, 51.3043937680002], [-179.0...</td>\n",
       "      <td>MultiPolygon</td>\n",
       "      <td>Alaska</td>\n",
       "      <td>This is in district 9</td>\n",
       "      <td>Alaska is great. But you really want to do a j...</td>\n",
       "      <td>#DD1177</td>\n",
       "      <td>9</td>\n",
       "      <td>District 9</td>\n",
       "    </tr>\n",
       "    <tr>\n",
       "      <th>4</th>\n",
       "      <td>[[[-109.044883728, 36.9986305240002], [-109.04...</td>\n",
       "      <td>Polygon</td>\n",
       "      <td>Arizona</td>\n",
       "      <td>This is in district 9</td>\n",
       "      <td>Arizona is great. But you really want to do a ...</td>\n",
       "      <td>#CC6666</td>\n",
       "      <td>9</td>\n",
       "      <td>District 9</td>\n",
       "    </tr>\n",
       "  </tbody>\n",
       "</table>\n",
       "</div>"
      ],
      "text/plain": [
       "                                geometry.coordinates geometry.type  \\\n",
       "0  [[[-85.30506134, 33.482673645], [-85.263984679...       Polygon   \n",
       "1  [[[-87.9870452879999, 35.0075187680001], [-87....       Polygon   \n",
       "2  [[[[-88.1121139529999, 30.2584381100002], [-88...  MultiPolygon   \n",
       "3  [[[[-179.098083496, 51.3043937680002], [-179.0...  MultiPolygon   \n",
       "4  [[[-109.044883728, 36.9986305240002], [-109.04...       Polygon   \n",
       "\n",
       "    properties.name     properties.headline  \\\n",
       "0    Alabama Middle  This is in district 11   \n",
       "1  Alabama Northern  This is in district 11   \n",
       "2  Alabama Southern  This is in district 11   \n",
       "3            Alaska   This is in district 9   \n",
       "4           Arizona   This is in district 9   \n",
       "\n",
       "                                  properties.article properties.color  \\\n",
       "0  Alabama Middle is great. But you really want t...          #AA0055   \n",
       "1  Alabama Northern is great. But you really want...          #EE4466   \n",
       "2  Alabama Southern is great. But you really want...          #FF8888   \n",
       "3  Alaska is great. But you really want to do a j...          #DD1177   \n",
       "4  Arizona is great. But you really want to do a ...          #CC6666   \n",
       "\n",
       "  properties.group_id properties.group_name  \n",
       "0                  11           District 11  \n",
       "1                  11           District 11  \n",
       "2                  11           District 11  \n",
       "3                   9            District 9  \n",
       "4                   9            District 9  "
      ]
     },
     "execution_count": 22,
     "metadata": {},
     "output_type": "execute_result"
    }
   ],
   "source": [
    "df3.head()"
   ]
  },
  {
   "cell_type": "code",
   "execution_count": 19,
   "metadata": {
    "collapsed": true
   },
   "outputs": [],
   "source": [
    "ok_json = json.loads(df3.to_json(orient='records'))\n"
   ]
  },
  {
   "cell_type": "code",
   "execution_count": null,
   "metadata": {
    "collapsed": true
   },
   "outputs": [],
   "source": []
  },
  {
   "cell_type": "markdown",
   "metadata": {},
   "source": [
    "But because we had to normalize the hierarchy of the geojson document we now have to rebuild the hierarchy so this json document becomes geojson, the function below does just that:\n"
   ]
  },
  {
   "cell_type": "code",
   "execution_count": 20,
   "metadata": {
    "collapsed": true
   },
   "outputs": [],
   "source": [
    "def process_to_geojson(file):\n",
    "    geo_data = {\"type\": \"FeatureCollection\", \"features\":[]}\n",
    "    for row in file:\n",
    "        this_dict = {\"type\": \"Feature\", \"properties\":{}, \"geometry\": {}}\n",
    "        for key, value in row.items():\n",
    "            key_names = key.split('.')\n",
    "            if key_names[0] == 'geometry':\n",
    "                this_dict['geometry'][key_names[1]] = value\n",
    "            if str(key_names[0]) == 'properties':\n",
    "                this_dict['properties'][key_names[1]] = value\n",
    "        geo_data['features'].append(this_dict)\n",
    "    return geo_data\n"
   ]
  },
  {
   "cell_type": "code",
   "execution_count": 21,
   "metadata": {
    "collapsed": true
   },
   "outputs": [],
   "source": [
    "geo_format = process_to_geojson(ok_json)"
   ]
  },
  {
   "cell_type": "code",
   "execution_count": null,
   "metadata": {},
   "outputs": [],
   "source": [
    "geo_format"
   ]
  },
  {
   "cell_type": "markdown",
   "metadata": {},
   "source": [
    "Now we can export this to a file! And don't forget to open it and prepend this variable assignment to the beginning of the file:\n",
    "\n",
    "`infoData = `"
   ]
  },
  {
   "cell_type": "code",
   "execution_count": 23,
   "metadata": {
    "collapsed": true
   },
   "outputs": [],
   "source": [
    "#Variable name\n",
    "with open('geo-data.js', 'w') as outfile:\n",
    "    outfile.write(\"var infoData = \")\n",
    "#geojson output\n",
    "with open('geo-data.js', 'a') as outfile:\n",
    "    json.dump(geo_format, outfile)\n"
   ]
  },
  {
   "cell_type": "code",
   "execution_count": null,
   "metadata": {
    "collapsed": true
   },
   "outputs": [],
   "source": []
  }
 ],
 "metadata": {
  "kernelspec": {
   "display_name": "Python 3",
   "language": "python",
   "name": "python3"
  },
  "language_info": {
   "codemirror_mode": {
    "name": "ipython",
    "version": 3
   },
   "file_extension": ".py",
   "mimetype": "text/x-python",
   "name": "python",
   "nbconvert_exporter": "python",
   "pygments_lexer": "ipython3",
   "version": "3.6.5"
  }
 },
 "nbformat": 4,
 "nbformat_minor": 2
}
